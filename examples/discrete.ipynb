{
 "cells": [
  {
   "cell_type": "code",
   "execution_count": 2,
   "id": "d38fac6e-66ee-4e54-9d09-e9c237f8a7b4",
   "metadata": {},
   "outputs": [
    {
     "data": {
      "text/plain": [
       "[StartingMessage(address=()),\n",
       " SampleMessage(address=('f', 3), distribution=<gorgo.core.Bernoulli object at 0x11455eeb0>),\n",
       " SampleMessage(address=('f', 5), distribution=<gorgo.core.Bernoulli object at 0x11455ec40>),\n",
       " ObserveMessage(address=('f', 7), distribution=<gorgo.core.Bernoulli object at 0x11455ea60>, value=True),\n",
       " ReturnMessage(address=None, value=1)]"
      ]
     },
     "execution_count": 2,
     "metadata": {},
     "output_type": "execute_result"
    }
   ],
   "source": [
    "from gorgo.core import Bernoulli, observe\n",
    "from gorgo.inference import SamplePrior, Enumeration\n",
    "\n",
    "def f():\n",
    "    a = Bernoulli(.5).sample()\n",
    "    b = Bernoulli(.5).sample()\n",
    "    observe(Bernoulli(1.0), (a + b) >= 1)\n",
    "    return a + b\n",
    "\n",
    "traj = SamplePrior(f).run()\n",
    "[ps.message for ps in traj]"
   ]
  },
  {
   "cell_type": "code",
   "execution_count": 3,
   "id": "4550fecc-ddbd-4041-8e7e-7087d68ec59f",
   "metadata": {},
   "outputs": [
    {
     "data": {
      "text/plain": [
       "{2: 0.3333333333333333, 1: 0.6666666666666666}"
      ]
     },
     "execution_count": 3,
     "metadata": {},
     "output_type": "execute_result"
    }
   ],
   "source": [
    "Enumeration(f).run()"
   ]
  }
 ],
 "metadata": {
  "kernelspec": {
   "display_name": "Python 3.9.0 ('env': venv)",
   "language": "python",
   "name": "python3"
  },
  "language_info": {
   "codemirror_mode": {
    "name": "ipython",
    "version": 3
   },
   "file_extension": ".py",
   "mimetype": "text/x-python",
   "name": "python",
   "nbconvert_exporter": "python",
   "pygments_lexer": "ipython3",
   "version": "3.9.0"
  },
  "vscode": {
   "interpreter": {
    "hash": "eec7c638a93f4ba9352c292f307816cbed3ad1c7ad39d5785fc8aa93cedfd1c1"
   }
  }
 },
 "nbformat": 4,
 "nbformat_minor": 5
}
