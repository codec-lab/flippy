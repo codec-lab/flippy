{
 "cells": [
  {
   "cell_type": "code",
   "execution_count": 1,
   "id": "29991b1b-9f5a-4601-8ce1-c75686fbaf56",
   "metadata": {},
   "outputs": [],
   "source": [
    "import numpy as np\n",
    "import pandas as pd\n",
    "import seaborn as sns\n",
    "\n",
    "from gorgo import observe\n",
    "from gorgo.core import Bernoulli\n",
    "from gorgo.inference import SamplePrior, Enumeration, LikelihoodWeighting, MetropolisHastings"
   ]
  },
  {
   "cell_type": "markdown",
   "id": "034bc2a0-20bd-4777-b897-3e2cbdc3f297",
   "metadata": {},
   "source": [
    "## Geometric Distribution"
   ]
  },
  {
   "cell_type": "code",
   "execution_count": 2,
   "id": "d5b77412-1bb9-4dac-b10f-3fdaa5661d94",
   "metadata": {},
   "outputs": [],
   "source": [
    "def geometric(p, i=0):\n",
    "    x = Bernoulli(p).sample(name=f\"x_{i}\")\n",
    "    if x == 0:\n",
    "        return 0\n",
    "    return 1 + geometric(p, i + 1)"
   ]
  },
  {
   "cell_type": "code",
   "execution_count": 3,
   "id": "5270cf6a-e3dd-4836-9abb-3442702270f8",
   "metadata": {},
   "outputs": [],
   "source": [
    "p = .8\n",
    "enum_dist = Enumeration(geometric, max_executions=50).run(p)\n",
    "lw_dist = LikelihoodWeighting(geometric, samples=2000).run(p)\n",
    "prior_dist = SamplePrior(geometric, samples=2000).run(p)\n",
    "mh_dist = MetropolisHastings(geometric, samples=2000, burn_in=100, thinning=50).run(p)"
   ]
  },
  {
   "cell_type": "code",
   "execution_count": 4,
   "id": "d4391b49-3ea2-44ff-a6a8-0bcda34f840b",
   "metadata": {},
   "outputs": [
    {
     "data": {
      "text/plain": [
       "<AxesSubplot:xlabel='k', ylabel='p'>"
      ]
     },
     "execution_count": 4,
     "metadata": {},
     "output_type": "execute_result"
    },
    {
     "data": {
      "image/png": "[encoded data removed]",
      "text/plain": [
       "<Figure size 432x288 with 1 Axes>"
      ]
     },
     "metadata": {
      "needs_background": "light"
     },
     "output_type": "display_data"
    }
   ],
   "source": [
    "df = pd.DataFrame(\n",
    "    [dict(k=k, p=v, dist='lw') for k, v in lw_dist.items()] + \n",
    "    [dict(k=k, p=v, dist='enum') for k, v in enum_dist.items()] + \n",
    "    [dict(k=k, p=v, dist='prior') for k, v in prior_dist.items()] + \n",
    "    [dict(k=k, p=v, dist='mh') for k, v in mh_dist.items()]\n",
    ")\n",
    "sns.scatterplot(\n",
    "    data=df,\n",
    "    x='k',\n",
    "    y='p',\n",
    "    hue='dist',\n",
    "    alpha=.5\n",
    ")"
   ]
  },
  {
   "cell_type": "code",
   "execution_count": 5,
   "id": "d8a3d00e-c0bc-43f9-8bac-84cbd7dac1c7",
   "metadata": {},
   "outputs": [
    {
     "name": "stdout",
     "output_type": "stream",
     "text": [
      "exp under enum: 4.00\n",
      "exp under lw: 3.99\n",
      "exp under mh: 4.01\n",
      "exp under prior: 4.05\n"
     ]
    }
   ],
   "source": [
    "for dist, dist_df in df.groupby('dist'):\n",
    "    print(f'exp under {dist}: {sum(dist_df[\"k\"]*dist_df[\"p\"]):.2f}')"
   ]
  },
  {
   "cell_type": "markdown",
   "id": "10582f22-e8d2-4157-acc1-99278f8ddad7",
   "metadata": {},
   "source": [
    "## Hidden Markov Model"
   ]
  },
  {
   "cell_type": "code",
   "execution_count": 6,
   "id": "708e075c-2815-4847-a423-69dd51b529e0",
   "metadata": {},
   "outputs": [],
   "source": [
    "def hmm(observations, last_state=None, stay_prob=.9, coherence=.8, horizon=10):\n",
    "    if horizon == 0 or len(observations) == 0:\n",
    "        return ()\n",
    "    if last_state is None:\n",
    "        last_state = int(Bernoulli(.5).sample())\n",
    "    stay = Bernoulli(stay_prob).sample()\n",
    "    cur_state = last_state if stay else {0: 1, 1: 0}[last_state]\n",
    "    observe(Bernoulli(coherence), cur_state == observations[0])\n",
    "    future_states = hmm(observations[1:], last_state=cur_state, stay_prob=stay_prob, coherence=coherence, horizon=horizon - 1)\n",
    "    return (cur_state,) + future_states\n",
    "\n",
    "def calc_hmm_marginals(seq_dist):\n",
    "    seqs, probs = zip(*seq_dist.items())\n",
    "    marg = (np.array(seqs)*np.array(probs)[:, None]).sum(0)\n",
    "    return tuple(marg)"
   ]
  },
  {
   "cell_type": "code",
   "execution_count": 7,
   "id": "8ed26efb-4116-442c-9031-874dde0778d9",
   "metadata": {},
   "outputs": [],
   "source": [
    "obs_seq = (1, 1, 0, 1, 1, 0, 0, 0)\n",
    "enum_hmm_marg = calc_hmm_marginals(Enumeration(hmm, max_executions=100).run(obs_seq))\n",
    "lw_hmm_marg = calc_hmm_marginals(LikelihoodWeighting(hmm, samples=2000).run(obs_seq))\n",
    "mh_hmm_marg = calc_hmm_marginals(MetropolisHastings(hmm, samples=2000, burn_in=100, thinning=20, seed=None).run(obs_seq))"
   ]
  },
  {
   "cell_type": "code",
   "execution_count": 8,
   "id": "1aad56c9-1963-4370-921c-bfe8f61a2508",
   "metadata": {},
   "outputs": [
    {
     "data": {
      "text/plain": [
       "<AxesSubplot:xlabel='t', ylabel='x'>"
      ]
     },
     "execution_count": 8,
     "metadata": {},
     "output_type": "execute_result"
    },
    {
     "data": {
      "image/png": "[encoded data removed]",
      "text/plain": [
       "<Figure size 432x288 with 1 Axes>"
      ]
     },
     "metadata": {
      "needs_background": "light"
     },
     "output_type": "display_data"
    }
   ],
   "source": [
    "df = pd.DataFrame(\n",
    "    [dict(t=t, x=x, dist=\"enum\") for t, x in enumerate(enum_hmm_marg)] +\n",
    "    [dict(t=t, x=x, dist=\"lw\") for t, x in enumerate(lw_hmm_marg)] + \n",
    "    [dict(t=t, x=x, dist=\"mh\") for t, x in enumerate(mh_hmm_marg)]\n",
    ")\n",
    "sns.scatterplot(\n",
    "    data=df,\n",
    "    x='t',\n",
    "    y='x',\n",
    "    hue='dist',\n",
    ")\n",
    "    "
   ]
  },
  {
   "cell_type": "code",
   "execution_count": null,
   "id": "08feb361-3b8f-42f1-8d09-41fb62ff6f9d",
   "metadata": {},
   "outputs": [],
   "source": []
  }
 ],
 "metadata": {
  "kernelspec": {
   "display_name": "Python 3 (ipykernel)",
   "language": "python",
   "name": "python3"
  },
  "language_info": {
   "codemirror_mode": {
    "name": "ipython",
    "version": 3
   },
   "file_extension": ".py",
   "mimetype": "text/x-python",
   "name": "python",
   "nbconvert_exporter": "python",
   "pygments_lexer": "ipython3",
   "version": "3.9.9"
  }
 },
 "nbformat": 4,
 "nbformat_minor": 5
}
