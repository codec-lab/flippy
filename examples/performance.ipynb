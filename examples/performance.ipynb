{
 "cells": [
  {
   "cell_type": "markdown",
   "id": "59ceb85d-40dd-48f6-814c-b1d29f3ad37b",
   "metadata": {},
   "source": [
    "# Summary\n",
    "- 1000 enumerations of geometric(.9), with a max execution of 100, compiled webppl is about 8x faster than cps python\n",
    "- Normal python is about 5x faster than cps-ed python"
   ]
  },
  {
   "cell_type": "code",
   "execution_count": 1,
   "id": "a490c063-c59e-4899-a6b0-f6d50b851025",
   "metadata": {},
   "outputs": [],
   "source": [
    "import time\n",
    "from collections import defaultdict\n",
    "from gorgo.core import Bernoulli\n",
    "from gorgo.inference import SamplePrior, Enumeration\n",
    "\n",
    "def geometric(p):\n",
    "    x = Bernoulli(p).sample()\n",
    "    if x == 0:\n",
    "        return 0\n",
    "    return 1 + geometric(p)"
   ]
  },
  {
   "cell_type": "markdown",
   "id": "33de75ba-0001-4954-8362-5d780d809e87",
   "metadata": {},
   "source": [
    "## Direct comparison with webppl - 1000 runs"
   ]
  },
  {
   "cell_type": "code",
   "execution_count": 2,
   "id": "63a16703-3fda-4e0f-8914-cd342dde0b1f",
   "metadata": {},
   "outputs": [
    {
     "name": "stdout",
     "output_type": "stream",
     "text": [
      "Runs: 1000; Total Time: 12.2s; 0.01217s per run\n"
     ]
    }
   ],
   "source": [
    "runs = 1000\n",
    "start = time.time()\n",
    "for _ in range(runs):\n",
    "    dist = Enumeration(geometric, max_executions=100).run(.9)\n",
    "tot_time = time.time() - start\n",
    "print(f\"Runs: {runs}; Total Time: {tot_time:.1f}s; {tot_time/runs:.5f}s per run\")"
   ]
  },
  {
   "cell_type": "markdown",
   "id": "1d09b0f4-99b8-479e-9b8b-2c063140e991",
   "metadata": {},
   "source": [
    "WebPPL comparison:\n",
    "\n",
    "```javascript\n",
    "var geometric = function(p) {\n",
    "  var x = flip(p)\n",
    "  if (x == 0) {\n",
    "    return 0\n",
    "  }\n",
    "  return x + geometric(p)\n",
    "}\n",
    "var runs = 1000\n",
    "var res = map( function () { return Infer({\n",
    "  method: 'enumerate',\n",
    "  maxExecutions: 100,\n",
    "  model: function () {geometric(.9)}\n",
    "})}, _.range(runs))\n",
    "display(res[0])\n",
    "```\n",
    "\n",
    "Run details:\n",
    "```\n",
    "webppl: v0.9.15-430b433d\n",
    "packages:\n",
    "seed: 1670249381229\n",
    "compile: 0.788s\n",
    "run: 2.159s\n",
    "```\n",
    "\n",
    "Re-run details:\n",
    "```\n",
    "webppl: v0.9.15-430b433d\n",
    "packages:\n",
    "seed: 1670249421016\n",
    "compile: cached\n",
    "run: 1.642s\n",
    "```"
   ]
  },
  {
   "cell_type": "markdown",
   "id": "c00f628a-e545-48d9-8bcf-cd68a15cca27",
   "metadata": {},
   "source": [
    "## Comparison of CPS python with normal python"
   ]
  },
  {
   "cell_type": "code",
   "execution_count": 3,
   "id": "88cf22f0-67bd-4c44-8e57-e6d19b307e1a",
   "metadata": {},
   "outputs": [],
   "source": [
    "from gorgo.interpreter import CPSInterpreter\n",
    "from gorgo.core import ReturnMessage, ProgramState\n",
    "\n",
    "_cps = CPSInterpreter()\n",
    "def geometric_cps(p, *, _cps=_cps, _cont=lambda val: val):\n",
    "    def _cont_1(_res_1):\n",
    "        __body_0__body_0__value__func__value = _res_1\n",
    "\n",
    "        def _cont_2(_res_2):\n",
    "            x = _res_2\n",
    "            if x == 0:\n",
    "                return lambda : _cont(0)\n",
    "            else:\n",
    "\n",
    "                def _cont_5(_res_5):\n",
    "                    __body_0__body_2__value__right = _res_5\n",
    "                    return lambda : _cont(1 + __body_0__body_2__value__right)\n",
    "                return lambda : geometric_cps(p, _cont=_cont_5)\n",
    "        return lambda : _cont_2(__body_0__body_0__value__func__value.sample())\n",
    "    return lambda : _cps.interpret(Bernoulli)(p, _cont=_cont_1)"
   ]
  },
  {
   "cell_type": "code",
   "execution_count": 4,
   "id": "46aad1e2-d618-4109-8422-129681206d18",
   "metadata": {},
   "outputs": [
    {
     "name": "stdout",
     "output_type": "stream",
     "text": [
      "cps_exp: 8.90, time: 0.46\n"
     ]
    }
   ],
   "source": [
    "start = time.time()\n",
    "cps_results = defaultdict(int)\n",
    "n = 10000\n",
    "for _ in range(n):\n",
    "    thunk = geometric_cps(.9)\n",
    "    while callable(thunk):\n",
    "        thunk = thunk()\n",
    "    cps_results[thunk] += 1\n",
    "tot_time = time.time() - start\n",
    "cps_results = {r: c/n for r, c in cps_results.items()}\n",
    "cps_exp = sum(r*p for r, p in cps_results.items())\n",
    "print(f\"cps_exp: {cps_exp:.2f}, time: {tot_time:.2f}\")"
   ]
  },
  {
   "cell_type": "code",
   "execution_count": 5,
   "id": "f29524a9-c4ca-418d-8d34-c5ca0da988e8",
   "metadata": {},
   "outputs": [
    {
     "name": "stdout",
     "output_type": "stream",
     "text": [
      "exp: 8.80, time: 0.10\n"
     ]
    }
   ],
   "source": [
    "start = time.time()\n",
    "results = defaultdict(int)\n",
    "n = 10000\n",
    "for _ in range(n):\n",
    "    res = geometric(.9)\n",
    "    results[res] += 1\n",
    "tot_time = time.time() - start\n",
    "results = {r: c/n for r, c in results.items()}\n",
    "exp = sum(r*p for r, p in results.items())\n",
    "print(f\"exp: {exp:.2f}, time: {tot_time:.2f}\")"
   ]
  },
  {
   "cell_type": "code",
   "execution_count": null,
   "id": "30e9b1bc-c361-41d4-bb3e-6effd12b46d2",
   "metadata": {},
   "outputs": [],
   "source": []
  }
 ],
 "metadata": {
  "kernelspec": {
   "display_name": "Python 3 (ipykernel)",
   "language": "python",
   "name": "python3"
  },
  "language_info": {
   "codemirror_mode": {
    "name": "ipython",
    "version": 3
   },
   "file_extension": ".py",
   "mimetype": "text/x-python",
   "name": "python",
   "nbconvert_exporter": "python",
   "pygments_lexer": "ipython3",
   "version": "3.9.9"
  }
 },
 "nbformat": 4,
 "nbformat_minor": 5
}
