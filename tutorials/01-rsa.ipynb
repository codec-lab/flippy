{
 "cells": [
  {
   "cell_type": "markdown",
   "id": "5bff8cb5",
   "metadata": {},
   "source": [
    "# Rational Speech Act"
   ]
  },
  {
   "cell_type": "code",
   "execution_count": 1,
   "id": "7fafdcb3",
   "metadata": {},
   "outputs": [],
   "source": [
    "from flippy import infer, condition, flip, draw_from\n",
    "from math import exp, log as log_\n",
    "import pandas as pd\n",
    "import seaborn as sns\n",
    "import matplotlib.pyplot as plt\n",
    "\n",
    "def log(x):\n",
    "    return log_(x) if x > 0 else float('-inf')"
   ]
  },
  {
   "cell_type": "code",
   "execution_count": 33,
   "id": "be60c2dd",
   "metadata": {},
   "outputs": [],
   "source": [
    "# !pip install pandas\n",
    "# !pip install seaborn"
   ]
  },
  {
   "cell_type": "code",
   "execution_count": null,
   "id": "71137234",
   "metadata": {},
   "outputs": [],
   "source": [
    "def world_prior():\n",
    "    return draw_from(4)\n",
    "\n",
    "def utterance_prior():\n",
    "    return draw_from(['some', \"all\", 'none'])\n",
    "\n",
    "def meaning(utt, world):\n",
    "    return (\n",
    "        world > 0 if utt == 'some' else\n",
    "        world == 3 if utt == 'all' else\n",
    "        world == 0 if utt == 'none' else\n",
    "        True\n",
    "    )\n",
    "\n",
    "@infer\n",
    "def literal_listener(utterance):\n",
    "    world = world_prior()\n",
    "    m = meaning(utterance, world)\n",
    "    condition(m)\n",
    "    return world\n",
    "\n",
    "@infer\n",
    "def speaker(world, rationality=1) -> str:\n",
    "    utterance = utterance_prior()\n",
    "    listener_beliefs = literal_listener(utterance)\n",
    "    true_belief = listener_beliefs.prob(world)\n",
    "    condition(exp(rationality*log(true_belief)))\n",
    "    return utterance\n",
    "\n",
    "@infer\n",
    "def pragmatic_listener(utterance, speaker_rationality=1):\n",
    "    world = world_prior()\n",
    "    speaker_policy = speaker(world, rationality=speaker_rationality)\n",
    "    speaker_policy.observe(utterance)\n",
    "    return world"
   ]
  },
  {
   "cell_type": "code",
   "execution_count": 42,
   "id": "114f7172",
   "metadata": {},
   "outputs": [
    {
     "data": {
      "image/png": "[encoded data removed]",
      "text/plain": [
       "<Figure size 1000x200 with 4 Axes>"
      ]
     },
     "metadata": {},
     "output_type": "display_data"
    }
   ],
   "source": [
    "speaker_policy_df = []\n",
    "fig, axes = plt.subplots(1, 4, figsize=(10, 2))\n",
    "for ax, w in zip(axes, range(4)):\n",
    "    speaker_policy = speaker(w, rationality=1)\n",
    "    ax.bar(['none', 'some', 'all'], \n",
    "           [speaker_policy.prob('none'), speaker_policy.prob('some'), speaker_policy.prob('all')])\n",
    "    ax.set_title(f'World {w}')\n",
    "fig.tight_layout()"
   ]
  },
  {
   "cell_type": "code",
   "execution_count": 43,
   "id": "28f18d38",
   "metadata": {},
   "outputs": [
    {
     "data": {
      "text/html": [
       "<table><thead><tr><th></th><th>Element</th><th>Probability</th></tr></thead><tbody><tr><td><b>0</b></td><td>2</td><td>0.476</td></tr><tr><td><b>1</b></td><td>1</td><td>0.476</td></tr><tr><td><b>2</b></td><td>3</td><td>0.048</td></tr></tbody></table>"
      ],
      "text/plain": [
       "DiscreteInferenceResult(support=(2, 1, 3), probabilities=(np.float64(0.47619047619047616), np.float64(0.47619047619047616), np.float64(0.047619047619047644)))"
      ]
     },
     "execution_count": 43,
     "metadata": {},
     "output_type": "execute_result"
    }
   ],
   "source": [
    "pragmatic_listener(\"some\", speaker_rationality=2)"
   ]
  },
  {
   "cell_type": "code",
   "execution_count": null,
   "id": "1c5e463a",
   "metadata": {},
   "outputs": [],
   "source": []
  }
 ],
 "metadata": {
  "kernelspec": {
   "display_name": "flippy",
   "language": "python",
   "name": "python3"
  },
  "language_info": {
   "codemirror_mode": {
    "name": "ipython",
    "version": 3
   },
   "file_extension": ".py",
   "mimetype": "text/x-python",
   "name": "python",
   "nbconvert_exporter": "python",
   "pygments_lexer": "ipython3",
   "version": "3.12.11"
  }
 },
 "nbformat": 4,
 "nbformat_minor": 5
}
