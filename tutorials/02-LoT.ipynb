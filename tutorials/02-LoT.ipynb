{
 "cells": [
  {
   "cell_type": "markdown",
   "id": "dbf9e698",
   "metadata": {},
   "source": [
    "# Probabilistic Language of Thought\n",
    "\n",
    "[Piantadosi, S. T., Tenenbaum, J. B., & Goodman, N. D. (2016). The logical primitives of thought: Empirical foundations for compositional cognitive models. Psychological review, 123(4), 392.](https://doi.org/10.1037/a0039980)"
   ]
  },
  {
   "cell_type": "code",
   "execution_count": 1,
   "id": "f7ad4a79",
   "metadata": {},
   "outputs": [],
   "source": [
    "from flippy import infer, condition, flip, draw_from, keep_deterministic, mem, \\\n",
    "    Categorical\n",
    "from flippy.distributions import Dirichlet\n",
    "from math import exp, log as log_\n",
    "import pandas as pd\n",
    "import seaborn as sns\n",
    "import matplotlib.pyplot as plt\n",
    "from frozendict import frozendict\n",
    "\n",
    "def log(x):\n",
    "    return log_(x) if x > 0 else float('-inf')"
   ]
  },
  {
   "cell_type": "code",
   "execution_count": 2,
   "id": "a566b6b7",
   "metadata": {},
   "outputs": [],
   "source": [
    "# The inverse temperature controls the sharpness of the right-hand side \n",
    "# expansion probabilities. When rules that branch have lower Dirichlet weights\n",
    "# than rules that do not, a higher inverse temperature leads to a bias towards\n",
    "# shorter rules.\n",
    "inv_temp = 1.0\n",
    "\n",
    "@mem\n",
    "def expansion_dist(rhs_probs: dict) -> Categorical:\n",
    "    dirichlet_weights = [v**inv_temp for v in list(rhs_probs.values())]\n",
    "    probs = Dirichlet(dirichlet_weights).sample()\n",
    "    return Categorical(list(rhs_probs.keys()), probabilities=probs)\n",
    "\n",
    "def simple_boolean():\n",
    "    def PREDICATE():\n",
    "        feature_dist = expansion_dist({\n",
    "            \"SIZE\": 2.0,\n",
    "            \"SHAPE\": 1.4,\n",
    "            \"COLOR\": 1.9,\n",
    "        })\n",
    "        attribute = feature_dist.sample()\n",
    "        if attribute == 'COLOR':\n",
    "            color_dist = expansion_dist({\n",
    "                \"yellow\": .6,\n",
    "                \"green\": .5,\n",
    "                \"blue\": 1.5\n",
    "            })\n",
    "            return f\"(lambda obj: obj['color'] == '{color_dist.sample()}')\"\n",
    "        elif attribute == 'SHAPE':\n",
    "            shape_dist = expansion_dist({\n",
    "                \"triangle\": 1.0,\n",
    "                \"rectangle\": 0.4,\n",
    "                \"circle\": 1.9\n",
    "            })\n",
    "            return f\"(lambda obj: obj['shape'] == '{shape_dist.sample()}')\"\n",
    "        elif attribute == 'SIZE':\n",
    "            size_dist = expansion_dist({\n",
    "                \"large\": 1.0,\n",
    "                \"medium\": 0.3,\n",
    "                \"small\": 1,\n",
    "            })\n",
    "            return f\"(lambda obj: obj['size'] == '{size_dist.sample()}')\"\n",
    "\n",
    "    def BOOL():\n",
    "        bool_dist = expansion_dist({\n",
    "            \"or\": 1.,\n",
    "            \"and\": 0.25,\n",
    "            \"not\": 2.0,\n",
    "            \"PREDICATE\": 1.6,\n",
    "        })\n",
    "        symbol = bool_dist.sample()\n",
    "        if symbol in (\"or\", \"and\"):\n",
    "            expr = f\"({BOOL()} {symbol} {BOOL()})\"\n",
    "        elif symbol == \"not\":\n",
    "            expr = f\"not {BOOL()}\"\n",
    "        elif symbol == \"PREDICATE\":\n",
    "            expr = f\"{PREDICATE()}(x)\"\n",
    "        condition(\"not not\" not in expr)\n",
    "        condition(len(expr) < 100)\n",
    "        return expr\n",
    "\n",
    "    def START():\n",
    "        return f\"lambda x: {BOOL()}\"\n",
    "\n",
    "    expr = START()\n",
    "    return expr\n",
    "        \n",
    "@infer(method=\"LikelihoodWeighting\", samples=3000)\n",
    "def prior(pcfg):\n",
    "    return pcfg()\n",
    "\n",
    "@keep_deterministic\n",
    "def convert_to_executable(func):\n",
    "    return keep_deterministic(eval(func))\n"
   ]
  },
  {
   "cell_type": "code",
   "execution_count": 12,
   "id": "48af8508",
   "metadata": {},
   "outputs": [],
   "source": [
    "# TODO: fix how seed=None is cached by infer\n",
    "@infer(method=\"MetropolisHastings\", samples=1000, seed=None, burn_in=1000)\n",
    "def posterior(pcfg, data):\n",
    "    concept = pcfg()\n",
    "    executable_concept = convert_to_executable(concept)\n",
    "    for example, value in data:\n",
    "        condition(executable_concept(example) == value)\n",
    "    return concept"
   ]
  },
  {
   "cell_type": "code",
   "execution_count": 15,
   "id": "30e3055a",
   "metadata": {},
   "outputs": [],
   "source": [
    "examples = (\n",
    "    (frozendict({'color': 'yellow', 'shape': 'circle', 'size': 'small'}), True),\n",
    "    (frozendict({'color': 'blue', 'shape': 'rectangle', 'size': 'medium'}), False),\n",
    "    (frozendict({'color': 'yellow', 'shape': 'triangle', 'size': 'large'}), True),\n",
    "    (frozendict({'color': 'green', 'shape': 'circle', 'size': 'small'}), False)\n",
    ")\n",
    "dist = posterior(simple_boolean, examples)"
   ]
  },
  {
   "cell_type": "code",
   "execution_count": 14,
   "id": "d933fe20",
   "metadata": {},
   "outputs": [
    {
     "data": {
      "text/html": [
       "<table><thead><tr><th></th><th>Element</th><th>Probability</th></tr></thead><tbody><tr><td><b>0</b></td><td>lambda x: (lambda obj: obj['color'] == 'yellow')(x)</td><td>1.000</td></tr></tbody></table>"
      ],
      "text/plain": [
       "Categorical(support=(\"lambda x: (lambda obj: obj['color'] == 'yellow')(x)\",), probabilities=(1.0,))"
      ]
     },
     "execution_count": 14,
     "metadata": {},
     "output_type": "execute_result"
    }
   ],
   "source": [
    "dist"
   ]
  },
  {
   "cell_type": "code",
   "execution_count": null,
   "id": "71e72482",
   "metadata": {},
   "outputs": [],
   "source": []
  }
 ],
 "metadata": {
  "kernelspec": {
   "display_name": "flippy",
   "language": "python",
   "name": "python3"
  },
  "language_info": {
   "codemirror_mode": {
    "name": "ipython",
    "version": 3
   },
   "file_extension": ".py",
   "mimetype": "text/x-python",
   "name": "python",
   "nbconvert_exporter": "python",
   "pygments_lexer": "ipython3",
   "version": "3.12.11"
  }
 },
 "nbformat": 4,
 "nbformat_minor": 5
}
